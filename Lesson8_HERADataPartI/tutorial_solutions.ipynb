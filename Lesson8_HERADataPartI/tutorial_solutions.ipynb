{
 "cells": [
  {
   "cell_type": "code",
   "execution_count": null,
   "metadata": {
    "ExecuteTime": {
     "end_time": "2019-06-21T01:25:10.775041Z",
     "start_time": "2019-06-21T01:25:09.535351Z"
    }
   },
   "outputs": [],
   "source": [
    "import numpy as np\n",
    "from hera_cal.io import HERAData, HERACal\n",
    "import matplotlib.pyplot as plt\n",
    "%matplotlib notebook"
   ]
  },
  {
   "cell_type": "markdown",
   "metadata": {
    "run_control": {
     "frozen": false,
     "read_only": false
    }
   },
   "source": [
    "# HERA Data Analysis Part I: Reading, Manipulating, and Visualizing Visibiltiy Data\n",
    "\n",
    "### *Workshop Leaders: Josh Dillon & Adam Beardsley*\n",
    "#### (Originally developed by Carina Cheng & Josh Dillon)"
   ]
  },
  {
   "cell_type": "markdown",
   "metadata": {
    "run_control": {
     "frozen": false,
     "read_only": false
    }
   },
   "source": [
    "## Reading Files and Metadata"
   ]
  },
  {
   "cell_type": "markdown",
   "metadata": {
    "run_control": {
     "frozen": false,
     "read_only": false
    }
   },
   "source": [
    "Load HERA data file `zen.2458098.40887.HH.calibrated_downselected.uvh5` (which is in the same folder as this notebook) the `HERAData` object in the `hera_cal.io` module. Then answer these basic questions about the data:\n",
    "\n",
    "1. How many antennas are in the array and what are their antenna numbers? \n",
    "\n",
    "\n",
    "2. How many frequency channels are there in the array. What range do they cover in MHz?\n",
    "\n",
    "\n",
    "3. What is the width of each frequency channel in MHz?\n",
    "\n",
    "\n",
    "4. How many time integrations are there in the file?\n",
    "\n",
    "\n",
    "5. What range of Julian Dates do they span?\n",
    "\n",
    "\n",
    "6. What is the lengh of each time integration in seconds?\n",
    "\n",
    "\n",
    "7. What range of LSTs (local sidreal times) do the data span?\n",
    "\n",
    "\n",
    "8. How many baselines are in the file? How many should there be? Why don't they agree? Hint: check the `history` attribute of the `HERAData` object."
   ]
  },
  {
   "cell_type": "code",
   "execution_count": null,
   "metadata": {
    "ExecuteTime": {
     "end_time": "2019-06-21T01:25:11.820912Z",
     "start_time": "2019-06-21T01:25:10.776883Z"
    }
   },
   "outputs": [],
   "source": [
    "import numpy as np\n",
    "from hera_cal.io import HERAData\n",
    "path = 'zen.2458098.40887.HH.calibrated_downselected.uvh5'\n",
    "hd = HERAData(path)"
   ]
  },
  {
   "cell_type": "code",
   "execution_count": null,
   "metadata": {
    "ExecuteTime": {
     "end_time": "2019-06-21T01:25:11.834970Z",
     "start_time": "2019-06-21T01:25:11.822825Z"
    },
    "run_control": {
     "frozen": false,
     "read_only": false
    }
   },
   "outputs": [],
   "source": [
    "# your answers here (hint: look at the attributes of the HERAData object)\n",
    "\n",
    "print('1. There are', len(hd.ants), 'antennas and they are:', hd.ants)\n",
    "\n",
    "print('\\n2. There are', len(hd.freqs), 'frequencies, covering a range of',\n",
    "      np.min(hd.freqs) / 1e6, 'MHz to', np.max(hd.freqs) / 1e6,'MHz.')\n",
    "\n",
    "print('\\n3. The width of each frequency channel is', (hd.freqs[1] - hd.freqs[0]) / 1e6, 'MHz.')\n",
    "\n",
    "print('\\n4. There are', len(hd.times), 'time integrations.')\n",
    "\n",
    "print('\\n5. The Julian Dates range from', np.min(hd.times), 'to', np.max(hd.times))\n",
    "\n",
    "print('\\n6. The integration time is', np.median(np.diff(hd.times)) * 24 * 3600, 'seconds.')\n",
    "\n",
    "\n",
    "print('\\n7. The LSTs range from', np.min(hd.lsts)*12/np.pi, 'to', np.max(hd.lsts)*12/np.pi, 'hours.')\n",
    "\n",
    "print('\\n8. There are', len(hd.bls), 'baselines but there should be N*(N-1)/2*4 =', \n",
    "      int(len(hd.ants)*(len(hd.ants)-1)/2*4))\n",
    "\n",
    "print('\\n', path, 'HISTORY:\\n',hd.history)"
   ]
  },
  {
   "cell_type": "markdown",
   "metadata": {
    "run_control": {
     "frozen": false,
     "read_only": false
    }
   },
   "source": [
    "Now let's plot our array to look at where the antennas are. (Hint, use the `hd.antpos` dictionary, `plt.scatter`, to plot antenna positions, and `plt.text` to label them."
   ]
  },
  {
   "cell_type": "code",
   "execution_count": null,
   "metadata": {
    "ExecuteTime": {
     "end_time": "2019-06-21T01:25:12.188725Z",
     "start_time": "2019-06-21T01:25:11.836679Z"
    },
    "run_control": {
     "frozen": false,
     "read_only": false
    },
    "scrolled": false
   },
   "outputs": [],
   "source": [
    "# Your answer here:\n",
    "\n",
    "xs = [hd.antpos[ant][0] for ant in hd.ants]\n",
    "ys = [hd.antpos[ant][1] for ant in hd.ants]\n",
    "\n",
    "plt.figure()\n",
    "plt.scatter(xs, ys, marker='.', color='k', s=3000) # plot the antenna positions with black circles\n",
    "for i, ant in enumerate(hd.ants): # loop over antennas\n",
    "    plt.text(xs[i], ys[i], ant, color='w', va='center', ha='center') # label antenna numbers\n",
    "plt.xlabel('X-position (m)')\n",
    "plt.ylabel('Y-position (m)')\n",
    "plt.axis('equal');"
   ]
  },
  {
   "cell_type": "markdown",
   "metadata": {},
   "source": [
    "# Reading Data and Flags"
   ]
  },
  {
   "cell_type": "markdown",
   "metadata": {
    "run_control": {
     "frozen": false,
     "read_only": false
    }
   },
   "source": [
    "Using a HERAData object, it's very easy to load in data into a convienent format."
   ]
  },
  {
   "cell_type": "code",
   "execution_count": null,
   "metadata": {
    "ExecuteTime": {
     "end_time": "2019-06-21T01:25:12.374918Z",
     "start_time": "2019-06-21T01:25:12.191004Z"
    }
   },
   "outputs": [],
   "source": [
    "data, flags, nsamples = hd.read()"
   ]
  },
  {
   "cell_type": "code",
   "execution_count": null,
   "metadata": {
    "ExecuteTime": {
     "end_time": "2019-06-21T01:25:12.379478Z",
     "start_time": "2019-06-21T01:25:12.376554Z"
    }
   },
   "outputs": [],
   "source": [
    "print(type(data))\n",
    "print(data.keys())"
   ]
  },
  {
   "cell_type": "markdown",
   "metadata": {},
   "source": [
    "`data`, `flags`, and `nsamples` are all fancy dictionaries (`DataContainer`s) that give us easy access to data. "
   ]
  },
  {
   "cell_type": "code",
   "execution_count": null,
   "metadata": {
    "ExecuteTime": {
     "end_time": "2019-06-21T01:25:12.384915Z",
     "start_time": "2019-06-21T01:25:12.380777Z"
    }
   },
   "outputs": [],
   "source": [
    "bl = (65, 71, 'xx') # tuple containing baseline and polarization\n",
    "print(type(data[bl]), data[bl].shape, data[bl].dtype)\n",
    "print(type(flags[bl]), flags[bl].shape, flags[bl].dtype)"
   ]
  },
  {
   "cell_type": "markdown",
   "metadata": {},
   "source": [
    "Now we can start plotting unflagged data. If we divide our data by `~flags`, we treat flags as 1s, so we're dividing flagged data by 0. This is usually bad (don't edit your data with your flags!), but it's useful for visualization."
   ]
  },
  {
   "cell_type": "code",
   "execution_count": null,
   "metadata": {
    "ExecuteTime": {
     "end_time": "2019-06-21T01:25:12.545188Z",
     "start_time": "2019-06-21T01:25:12.386899Z"
    },
    "run_control": {
     "frozen": false,
     "read_only": false
    }
   },
   "outputs": [],
   "source": [
    "integration = 30 # this is the integration index, 30 out of 60 total integrations\n",
    "plt.figure()\n",
    "plt.plot(hd.freqs/1e6, data[bl][integration,:].real / ~flags[bl][integration,:], 'b-', label='Real part')\n",
    "plt.plot(hd.freqs/1e6, data[bl][integration,:].imag / ~flags[bl][integration,:], 'r-', label='Imag part')\n",
    "plt.xlabel('Frequency (MHz)')\n",
    "plt.ylabel('Visibility (Jy)')\n",
    "plt.grid(); plt.legend();"
   ]
  },
  {
   "cell_type": "markdown",
   "metadata": {
    "run_control": {
     "frozen": false,
     "read_only": false
    }
   },
   "source": [
    "Exercise: Plot unflagged visibilities as a function of LST for a few different frequency channels. Label each channel's frequency and include a legend."
   ]
  },
  {
   "cell_type": "code",
   "execution_count": null,
   "metadata": {
    "ExecuteTime": {
     "end_time": "2019-06-21T01:25:12.712432Z",
     "start_time": "2019-06-21T01:25:12.547640Z"
    },
    "run_control": {
     "frozen": false,
     "read_only": false
    }
   },
   "outputs": [],
   "source": [
    "bl = (65, 71, 'xx')\n",
    "chans = [100,300,750]\n",
    "\n",
    "# your answer here \n",
    "plt.figure()\n",
    "\n",
    "for chan in chans:\n",
    "    plt.plot(hd.lsts*24/2/np.pi, data[bl][:,chan] / ~flags[bl][:,chan], \n",
    "             label=str(np.round(hd.freqs[chan]/1e6,3)) + ' MHz')\n",
    "plt.xlabel('LST (hours)')\n",
    "plt.ylabel('Visibility (Jy)')\n",
    "plt.grid(); plt.legend();"
   ]
  },
  {
   "cell_type": "markdown",
   "metadata": {
    "run_control": {
     "frozen": false,
     "read_only": false
    }
   },
   "source": [
    "# Waterfall Plots"
   ]
  },
  {
   "cell_type": "markdown",
   "metadata": {
    "run_control": {
     "frozen": false,
     "read_only": false
    }
   },
   "source": [
    "Another useful way of visualizing our data is to plot it as a waterfall plot. A waterfall plot is a two-dimensional plot of the visibility (the cross-correlated signal between a pair of antennas) as a function of time (y-axis) and frequency (x-axis). We can use the `plt.imshow` to plot the amplitude and phase of the same baseline as above. Note that the keyword `extent` takes in 4 arguments which define the plot axes extent in the order of (xmin, xmax, ymin, ymax), and we've massaged our axes to display frequencies in MHz and times in LST hours."
   ]
  },
  {
   "cell_type": "code",
   "execution_count": null,
   "metadata": {
    "ExecuteTime": {
     "end_time": "2019-06-21T01:25:13.940129Z",
     "start_time": "2019-06-21T01:25:12.714494Z"
    },
    "run_control": {
     "frozen": false,
     "read_only": false
    },
    "scrolled": false
   },
   "outputs": [],
   "source": [
    "import matplotlib \n",
    "bl = (65, 71, 'xx')\n",
    "\n",
    "# Plot absolute value of visibility\n",
    "plt.figure(figsize=(8,4))\n",
    "plt.subplot(121)\n",
    "plt.imshow(np.abs(data[bl]), aspect='auto', norm=matplotlib.colors.LogNorm(1e0,1e2),\n",
    "          extent=(hd.freqs[0]/1e6, hd.freqs[-1]/1e6, \n",
    "                  hd.lsts[-1]*12/np.pi, hd.lsts[0]*12/np.pi))\n",
    "plt.colorbar(label='Visibility Amplitude (Jy)')\n",
    "plt.xlabel('Frequency (MHz)')\n",
    "plt.ylabel('LST (hours)')\n",
    "plt.title('Amplitude')\n",
    "\n",
    "# Plot phase of visibility\n",
    "plt.subplot(122)\n",
    "plt.imshow(np.angle(data[bl]), aspect='auto',\n",
    "          extent=(hd.freqs[0]/1e6, hd.freqs[-1]/1e6, \n",
    "                  hd.lsts[-1]*12/np.pi, hd.lsts[0]*12/np.pi))\n",
    "plt.colorbar(label='Visibility Phase')\n",
    "plt.xlabel('Frequency (MHz)')\n",
    "plt.ylabel('LST (hours)')\n",
    "plt.title('Phase')\n",
    "\n",
    "plt.tight_layout();"
   ]
  },
  {
   "cell_type": "markdown",
   "metadata": {
    "run_control": {
     "frozen": false,
     "read_only": false
    }
   },
   "source": [
    "Some features to note from the waterfall plots:\n",
    "* RFI\n",
    "* Band edges\n",
    "* Frequency and temporal structure\n",
    "\n",
    "Thankfully, someone has already done a bunch of work to figure out which data might be bad and flagged it. Here is what the flags look like:"
   ]
  },
  {
   "cell_type": "code",
   "execution_count": null,
   "metadata": {
    "ExecuteTime": {
     "end_time": "2019-06-21T01:25:14.416627Z",
     "start_time": "2019-06-21T01:25:13.942174Z"
    }
   },
   "outputs": [],
   "source": [
    "bl = (65, 71, 'xx')\n",
    "\n",
    "# Plot RFI Flags\n",
    "plt.figure(figsize=(8,4))\n",
    "plt.subplot(121)\n",
    "plt.imshow(flags[bl].astype(float), aspect='auto',\n",
    "          extent=(hd.freqs[0]/1e6, hd.freqs[-1]/1e6, \n",
    "                  hd.lsts[-1]*12/np.pi, hd.lsts[0]*12/np.pi))\n",
    "plt.colorbar()\n",
    "plt.xlabel('Frequency (MHz)')\n",
    "plt.ylabel('LST (hours)')\n",
    "plt.title('Flags')\n",
    "\n",
    "# Plot phase of visibility\n",
    "plt.subplot(122)\n",
    "plt.imshow(np.angle(data[bl]) / ~flags[bl], aspect='auto',\n",
    "          extent=(hd.freqs[0]/1e6, hd.freqs[-1]/1e6, \n",
    "                  hd.lsts[-1]*12/np.pi, hd.lsts[0]*12/np.pi))\n",
    "plt.colorbar(label='Visibility Phase')\n",
    "plt.xlabel('Frequency (MHz)')\n",
    "plt.ylabel('LST (hours)')\n",
    "plt.title('Flagged Phase')\n",
    "\n",
    "plt.tight_layout();"
   ]
  },
  {
   "cell_type": "markdown",
   "metadata": {
    "run_control": {
     "frozen": false,
     "read_only": false
    }
   },
   "source": [
    "Exercise: Now try a short baseline and a long baseline of the same orientation. Make waterfall plots (in both amplitude and phase) for both. How do they differ?"
   ]
  },
  {
   "cell_type": "code",
   "execution_count": null,
   "metadata": {
    "ExecuteTime": {
     "end_time": "2019-06-21T01:25:15.513954Z",
     "start_time": "2019-06-21T01:25:14.419264Z"
    },
    "run_control": {
     "frozen": false,
     "read_only": false
    }
   },
   "outputs": [],
   "source": [
    "bl1 = (37, 38, 'xx') # short E/W baseline\n",
    "bl2 = (65, 71, 'xx') # long E/W baseline\n",
    "\n",
    "# your answer here\n",
    "plt.figure(figsize=(10,5))\n",
    "plt.subplot(221)\n",
    "plt.imshow(np.abs(data[bl1]) / ~flags[bl1], aspect='auto', norm=matplotlib.colors.LogNorm(1e0,1e2),\n",
    "          extent=(hd.freqs[0]/1e6, hd.freqs[-1]/1e6, \n",
    "                  hd.lsts[-1]*12/np.pi, hd.lsts[0]*12/np.pi))\n",
    "plt.colorbar(label='Visibility Amplitude (Jy)')\n",
    "plt.xlabel('Frequency (MHz)')\n",
    "plt.ylabel('LST (hours)')\n",
    "plt.title('Amplitude: {}'.format(bl1))\n",
    "\n",
    "plt.subplot(222)\n",
    "plt.imshow(np.angle(data[bl1]) / ~flags[bl1], aspect='auto',\n",
    "          extent=(hd.freqs[0]/1e6, hd.freqs[-1]/1e6, \n",
    "                  hd.lsts[-1]*12/np.pi, hd.lsts[0]*12/np.pi))\n",
    "plt.colorbar(label='Visibility Phase')\n",
    "plt.xlabel('Frequency (MHz)')\n",
    "plt.ylabel('LST (hours)')\n",
    "plt.title('Phase: {}'.format(bl1))\n",
    "\n",
    "plt.subplot(223)\n",
    "plt.imshow(np.abs(data[bl2]) / ~flags[bl2], aspect='auto', norm=matplotlib.colors.LogNorm(1e0,1e2),\n",
    "          extent=(hd.freqs[0]/1e6, hd.freqs[-1]/1e6, \n",
    "                  hd.lsts[-1]*12/np.pi, hd.lsts[0]*12/np.pi))\n",
    "plt.colorbar(label='Visibility Amplitude (Jy)')\n",
    "plt.xlabel('Frequency (MHz)')\n",
    "plt.ylabel('LST (hours)')\n",
    "plt.title('Amplitude: {}'.format(bl2))\n",
    "\n",
    "plt.subplot(224)\n",
    "plt.imshow(np.angle(data[bl2]) / ~flags[bl2], aspect='auto',\n",
    "          extent=(hd.freqs[0]/1e6, hd.freqs[-1]/1e6, \n",
    "                  hd.lsts[-1]*12/np.pi, hd.lsts[0]*12/np.pi))\n",
    "plt.colorbar(label='Visibility Phase')\n",
    "plt.xlabel('Frequency (MHz)')\n",
    "plt.ylabel('LST (hours)')\n",
    "plt.title('Phase: {}'.format(bl2))\n",
    "\n",
    "plt.tight_layout();"
   ]
  },
  {
   "cell_type": "markdown",
   "metadata": {
    "run_control": {
     "frozen": false,
     "read_only": false
    }
   },
   "source": [
    "Exercise: Now try comparing a N/S baseline to a E/W one of similar lengths do the waterfall plots differ for an E/W baseline vs. a N/S baseline? Does this make sense?"
   ]
  },
  {
   "cell_type": "code",
   "execution_count": null,
   "metadata": {
    "ExecuteTime": {
     "end_time": "2019-06-21T01:25:16.706537Z",
     "start_time": "2019-06-21T01:25:15.515865Z"
    },
    "run_control": {
     "frozen": false,
     "read_only": false
    }
   },
   "outputs": [],
   "source": [
    "bl1 = (37, 38, 'xx') # short E/W baseline\n",
    "bl2 = (51, 83, 'xx') # short N/S baseline\n",
    "\n",
    "# your answer here\n",
    "plt.figure(figsize=(10,8))\n",
    "plt.subplot(221)\n",
    "plt.imshow(np.abs(data[bl1]) / ~flags[bl1], aspect='auto', norm=matplotlib.colors.LogNorm(1e0,1e2),\n",
    "          extent=(hd.freqs[0]/1e6, hd.freqs[-1]/1e6, \n",
    "                  hd.lsts[-1]*12/np.pi, hd.lsts[0]*12/np.pi))\n",
    "plt.colorbar(label='Visibility Amplitude (Jy)')\n",
    "plt.xlabel('Frequency (MHz)')\n",
    "plt.ylabel('LST (hours)')\n",
    "plt.title('Amplitude: {}'.format(bl1))\n",
    "\n",
    "plt.subplot(222)\n",
    "plt.imshow(np.angle(data[bl1]) / ~flags[bl1], aspect='auto',\n",
    "          extent=(hd.freqs[0]/1e6, hd.freqs[-1]/1e6, \n",
    "                  hd.lsts[-1]*12/np.pi, hd.lsts[0]*12/np.pi))\n",
    "plt.colorbar(label='Visibility Phase')\n",
    "plt.xlabel('Frequency (MHz)')\n",
    "plt.ylabel('LST (hours)')\n",
    "plt.title('Phase: {}'.format(bl1))\n",
    "\n",
    "plt.subplot(223)\n",
    "plt.imshow(np.abs(data[bl2]) / ~flags[bl2], aspect='auto', norm=matplotlib.colors.LogNorm(1e0,1e2),\n",
    "          extent=(hd.freqs[0]/1e6, hd.freqs[-1]/1e6, \n",
    "                  hd.lsts[-1]*12/np.pi, hd.lsts[0]*12/np.pi))\n",
    "plt.colorbar(label='Visibility Amplitude (Jy)')\n",
    "plt.xlabel('Frequency (MHz)')\n",
    "plt.ylabel('LST (hours)')\n",
    "plt.title('Amplitude: {}'.format(bl2))\n",
    "\n",
    "plt.subplot(224)\n",
    "plt.imshow(np.angle(data[bl2]) / ~flags[bl2], aspect='auto',\n",
    "          extent=(hd.freqs[0]/1e6, hd.freqs[-1]/1e6, \n",
    "                  hd.lsts[-1]*12/np.pi, hd.lsts[0]*12/np.pi))\n",
    "plt.colorbar(label='Visibility Phase')\n",
    "plt.xlabel('Frequency (MHz)')\n",
    "plt.ylabel('LST (hours)')\n",
    "plt.title('Phase: {}'.format(bl2))\n",
    "\n",
    "plt.tight_layout();"
   ]
  },
  {
   "cell_type": "markdown",
   "metadata": {
    "run_control": {
     "frozen": false,
     "read_only": false
    }
   },
   "source": [
    "# D) The Delay Transform"
   ]
  },
  {
   "cell_type": "markdown",
   "metadata": {
    "run_control": {
     "frozen": false,
     "read_only": false
    }
   },
   "source": [
    "The delay transform is a clever technique we use to isolate bright foregrounds in our data (which we can then filter out). The delay transform is simply the Fourier transform of the visibility along frequency. \n",
    "\n",
    "Exercise: Try implementing the delay transform using `np.fft.fft` by following the steps below. We will think about its interpretation after."
   ]
  },
  {
   "cell_type": "code",
   "execution_count": null,
   "metadata": {
    "ExecuteTime": {
     "end_time": "2019-06-21T01:25:54.242867Z",
     "start_time": "2019-06-21T01:25:53.693575Z"
    },
    "run_control": {
     "frozen": false,
     "read_only": false
    }
   },
   "outputs": [],
   "source": [
    "bl = (51,83,'xx')\n",
    "vis = data[bl]\n",
    "\n",
    "# 1) Fourier transform \"vis\" along the frequency axis (don't forget to fftshift after)\n",
    "#vis_dt = # your answer here \n",
    "vis_dt = np.fft.fftshift(np.fft.fft(vis,axis=1), axes=1) # Fourier-transform along frequency\n",
    "\n",
    "# 2) Find the frequency width of a channel in GHz\n",
    "#freq_width = # your answer here\n",
    "freq_width =  np.median(np.diff(hd.freqs)) / 1e9 # GHz\n",
    "\n",
    "#3) Convert frequencies to delays. Numpy's fftfreq function takes two arguments: \n",
    "#   the number of frequencies, and the frequeny width you calculated above\n",
    "#delays = # your answer here\n",
    "delays = np.fft.fftshift(np.fft.fftfreq(len(hd.freqs), freq_width)) # ns\n",
    "\n",
    "import matplotlib\n",
    "plt.figure()\n",
    "plt.imshow(np.abs(vis_dt), aspect='auto', norm=matplotlib.colors.LogNorm(1e0,1e7),\n",
    "           extent=(np.min(delays), np.max(delays),\n",
    "                   hd.lsts[-1]*12/np.pi, hd.lsts[0]*12/np.pi))\n",
    "plt.colorbar(label='Visibility Amplitude (Jy)')\n",
    "plt.xlabel('Delay (ns)')\n",
    "plt.ylabel('LST (hours)')\n",
    "plt.title('Delay Transform');"
   ]
  },
  {
   "cell_type": "markdown",
   "metadata": {
    "run_control": {
     "frozen": false,
     "read_only": false
    }
   },
   "source": [
    "Yuck! What happened? All that bright RFI - which are very well localized in frequency space - has spread out in delay space, causing that bright interference patten. So let's flag out the RFI!"
   ]
  },
  {
   "cell_type": "markdown",
   "metadata": {
    "run_control": {
     "frozen": false,
     "read_only": false
    }
   },
   "source": [
    "Exericse: Now plot the delay transform again, but this time set the flagged channels to 0 by multiplying the visibility data by `~flags` (the tilde is to invert the flags, because the saved flags have 1's where the flags are)."
   ]
  },
  {
   "cell_type": "code",
   "execution_count": null,
   "metadata": {
    "ExecuteTime": {
     "end_time": "2019-06-21T01:25:56.232090Z",
     "start_time": "2019-06-21T01:25:55.860747Z"
    },
    "run_control": {
     "frozen": false,
     "read_only": false
    }
   },
   "outputs": [],
   "source": [
    "bl = (51,83,'xx')\n",
    "\n",
    "# your answer here\n",
    "vis = data[bl] * ~flags[bl] # set flags to 0 (can't divide by 0 or fft will break)\n",
    "vis_dt = np.fft.fftshift(np.fft.fft(vis,axis=1), axes=1) # Fourier-transform along frequency\n",
    "freq_width =  np.median(np.diff(hd.freqs)) / 1e9 # GHz\n",
    "delays = np.fft.fftshift(np.fft.fftfreq(len(hd.freqs), freq_width)) # ns\n",
    "\n",
    "plt.figure()\n",
    "plt.imshow(np.abs(vis_dt), aspect='auto', norm=matplotlib.colors.LogNorm(1e0,1e4),\n",
    "           extent=(np.min(delays), np.max(delays),\n",
    "                   hd.lsts[-1]*12/np.pi, hd.lsts[0]*12/np.pi))\n",
    "plt.colorbar(label='Visibility Amplitude (Jy)')\n",
    "plt.xlabel('Delay (ns)')\n",
    "plt.ylabel('LST (hours)')\n",
    "plt.title('Delay Transform');"
   ]
  },
  {
   "cell_type": "markdown",
   "metadata": {
    "run_control": {
     "frozen": false,
     "read_only": false
    }
   },
   "source": [
    "That's better. So what do we see here? All the bright stuff at low delay values correspond to bright foreground sources that are smooth in frequency (and therefore \"peaky\" in delay). This is nice for us because we've isolated the foregrounds and we can filter them out easily in this space.\n",
    "\n",
    "Let's think about what \"delay\" means physically. A delay can be thought of as the time difference between when a lightwave hits one antenna and when it hits the second antenna. In other words, there is a time lag between light hitting each antenna depending on the direction it comes from and the orientation of the baseline.\n",
    "\n",
    "Where would the light have to be coming from for the time delay to be zero? Where would it need to be coming from to produce a maximum delay (hint: we call this the horizon limit)?"
   ]
  },
  {
   "cell_type": "markdown",
   "metadata": {
    "run_control": {
     "frozen": false,
     "read_only": false
    }
   },
   "source": [
    "Exercise: For the baseline we picked earlier, calculate the theoretical maximum delay (in nanoseconds), using $t = d/c$, where $t$ is the time delay, $d$ is the baseline distance, and $c$ is the speed of light. You can calculate the baseline distance using the saved `antpos` and `ants` variables from earlier, or approximate it using the antenna layout plot."
   ]
  },
  {
   "cell_type": "code",
   "execution_count": null,
   "metadata": {
    "ExecuteTime": {
     "end_time": "2019-06-21T01:25:57.352221Z",
     "start_time": "2019-06-21T01:25:57.344626Z"
    },
    "run_control": {
     "frozen": false,
     "read_only": false
    }
   },
   "outputs": [],
   "source": [
    "bl = (51,83,'xx')\n",
    "# your answer here\n",
    "\n",
    "a1,a2 = bl[0], bl[1] # antennas involved in the baseline\n",
    "print('Antennas:',a1,a2)\n",
    "\n",
    "x1, y1, z1 = hd.antpos[a1][0], hd.antpos[a1][1], hd.antpos[a1][2] # x and y coordinate values for the first antenna\n",
    "x2, y2, z2 = hd.antpos[a2][0], hd.antpos[a2][1], hd.antpos[a2][2] # x and y coordinate values for the second antenna\n",
    "d = np.sqrt((x1-x2)**2 + (y1-y2)**2 + (z1-z2)**2) # baseline distance in meters\n",
    "print('Baseline length:', d, 'm')\n",
    "\n",
    "c = 3e8 # speed of light in m/s\n",
    "t = d/c * 1e9 # time delay in ns\n",
    "print('Time Delay:', np.round(t), 'ns')"
   ]
  },
  {
   "cell_type": "markdown",
   "metadata": {
    "run_control": {
     "frozen": false,
     "read_only": false
    }
   },
   "source": [
    "A cool trick for a faster calculation is to convert your distance $d$ to feet. That number is also approximately the time delay in nanoseconds! \n",
    "\n",
    "Also note that the foregrounds in our delay-transform plot spread out past this horizon limit. This is due to all sorts of effects, but the biggest one is the RFI gaps. However, we have algorithms that can deal with these in a smarter way than just setting them to 0. "
   ]
  },
  {
   "cell_type": "code",
   "execution_count": null,
   "metadata": {
    "ExecuteTime": {
     "end_time": "2019-06-21T01:25:59.918335Z",
     "start_time": "2019-06-21T01:25:58.141417Z"
    },
    "run_control": {
     "frozen": false,
     "read_only": false
    }
   },
   "outputs": [],
   "source": [
    "from hera_cal import delay_filter\n",
    "\n",
    "bl = (51,83,'xx')\n",
    "df = delay_filter.DelayFilter(hd) # establish delay filter object\n",
    "df.run_filter(to_filter=[bl]) # filter the specific key we want (otherwise it takes a long time to do all keys)\n",
    "\n",
    "vis_df = df.clean_resid[bl] # filtered visibility (i.e. the cleaned visibility)\n",
    "clean = df.clean_data[bl] # low delay modes we don't want (i.e. the stuff that gets filtered out)\n",
    "\n",
    "# Plot\n",
    "plt.figure(figsize=(10,3))\n",
    "plt.subplot(131)\n",
    "plt.imshow(np.abs(data[bl] / ~flags[bl]), aspect='auto', norm=matplotlib.colors.LogNorm(1e0,1e2),\n",
    "          extent=(hd.freqs[0]/1e6, hd.freqs[-1]/1e6, \n",
    "                  hd.lsts[-1]*12/np.pi, hd.lsts[0]*12/np.pi))\n",
    "plt.colorbar(label='Visibility Amplitude (Jy)')\n",
    "plt.xlabel('Frequency (MHz)')\n",
    "plt.ylabel('LST (hours)')\n",
    "plt.title('Original Visibility')\n",
    "\n",
    "plt.subplot(132)\n",
    "plt.imshow(np.abs(vis_df), aspect='auto', norm=matplotlib.colors.LogNorm(1e0,1e2),\n",
    "          extent=(hd.freqs[0]/1e6, hd.freqs[-1]/1e6, \n",
    "                  hd.lsts[-1]*12/np.pi, hd.lsts[0]*12/np.pi))\n",
    "plt.colorbar(label='Visibility Amplitude (Jy)')\n",
    "plt.xlabel('Frequency (MHz)')\n",
    "plt.ylabel('LST (hours)')\n",
    "plt.title('Cleaned Visibility')\n",
    "\n",
    "plt.subplot(133)\n",
    "plt.imshow(np.abs(clean), aspect='auto', norm=matplotlib.colors.LogNorm(1e0,1e2),\n",
    "          extent=(hd.freqs[0]/1e6, hd.freqs[-1]/1e6, \n",
    "                  hd.lsts[-1]*12/np.pi, hd.lsts[0]*12/np.pi))\n",
    "plt.colorbar(label='Visibility Phase')\n",
    "plt.xlabel('Frequency (MHz)')\n",
    "plt.ylabel('LST (hours)')\n",
    "plt.title('CLEAN Components')\n",
    "\n",
    "plt.tight_layout();"
   ]
  },
  {
   "cell_type": "markdown",
   "metadata": {
    "run_control": {
     "frozen": false,
     "read_only": false
    }
   },
   "source": [
    "Comparing the left and middle plots, we see that we've reduced the amplitude of our visibility by a couple orders of magnitude! We also see that some of the foreground structure we see in the left plot has been removed, as the middle plot looks more noise-like. Delay-filtering is a powerful tool for HERA; afterall, we are trying to find a tiny signal (the 21cm EoR signal) buried underneath a lot of stuff we don't care about!"
   ]
  },
  {
   "cell_type": "markdown",
   "metadata": {},
   "source": [
    "Exercise. Try running the delay filter with `to_filter=[bl]` and `min_dly=6000` to use the CLEAN part of the filter without the \"filtering\" part. Now image the FFT of `df.clean_data[bl]` in delay vs. LST. How does this compare to what you did above?"
   ]
  },
  {
   "cell_type": "code",
   "execution_count": null,
   "metadata": {
    "ExecuteTime": {
     "end_time": "2019-06-21T01:26:02.237172Z",
     "start_time": "2019-06-21T01:25:59.920209Z"
    }
   },
   "outputs": [],
   "source": [
    "bl = (51,83,'xx')\n",
    "\n",
    "# your answer here\n",
    "df = delay_filter.DelayFilter(hd) # establish delay filter object\n",
    "df.run_filter(to_filter=[bl], min_dly=6000) # try to over all delays\n",
    "\n",
    "vis = df.clean_data[bl] \n",
    "vis_dt = np.fft.fftshift(np.fft.fft(vis, axis=1), axes=1) # Fourier-transform along frequency\n",
    "freq_width =  np.median(np.diff(hd.freqs)) / 1e9 # GHz\n",
    "delays = np.fft.fftshift(np.fft.fftfreq(len(hd.freqs), freq_width)) # ns\n",
    "\n",
    "plt.figure()\n",
    "plt.imshow(np.abs(vis_dt), aspect='auto', norm=matplotlib.colors.LogNorm(1e0,1e4),\n",
    "           extent=(np.min(delays), np.max(delays),\n",
    "                   hd.lsts[-1]*12/np.pi, hd.lsts[0]*12/np.pi))\n",
    "plt.colorbar(label='Visibility Amplitude (Jy)')\n",
    "plt.xlabel('Delay (ns)')\n",
    "plt.ylabel('LST (hours)')\n",
    "plt.title('Delay Transform');"
   ]
  },
  {
   "cell_type": "code",
   "execution_count": null,
   "metadata": {},
   "outputs": [],
   "source": []
  }
 ],
 "metadata": {
  "kernelspec": {
   "display_name": "Python 3",
   "language": "python",
   "name": "python3"
  },
  "language_info": {
   "codemirror_mode": {
    "name": "ipython",
    "version": 3
   },
   "file_extension": ".py",
   "mimetype": "text/x-python",
   "name": "python",
   "nbconvert_exporter": "python",
   "pygments_lexer": "ipython3",
   "version": "3.7.3"
  }
 },
 "nbformat": 4,
 "nbformat_minor": 2
}
