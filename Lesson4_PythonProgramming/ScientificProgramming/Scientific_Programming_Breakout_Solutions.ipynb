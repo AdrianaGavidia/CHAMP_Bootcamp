{
 "cells": [
  {
   "cell_type": "code",
   "execution_count": null,
   "metadata": {
    "ExecuteTime": {
     "end_time": "2019-05-23T00:52:26.910879Z",
     "start_time": "2019-05-23T00:52:26.438964Z"
    },
    "run_control": {
     "frozen": false,
     "read_only": false
    }
   },
   "outputs": [],
   "source": [
    "from __future__ import absolute_import, division, print_function\n",
    "import numpy as np\n",
    "import matplotlib.pyplot as plt\n",
    "%matplotlib notebook \n",
    "import scipy\n",
    "import astropy\n",
    "import healpy"
   ]
  },
  {
   "cell_type": "markdown",
   "metadata": {
    "code_folding": [
     0
    ],
    "run_control": {
     "frozen": false,
     "read_only": false
    }
   },
   "source": [
    "# CODING BREAKOUT SOLUTION: Sum of all multiples of 3 and 5"
   ]
  },
  {
   "cell_type": "code",
   "execution_count": null,
   "metadata": {
    "ExecuteTime": {
     "end_time": "2019-05-23T00:52:26.918881Z",
     "start_time": "2019-05-23T00:52:26.912863Z"
    },
    "run_control": {
     "frozen": false,
     "read_only": false
    }
   },
   "outputs": [],
   "source": [
    "divby3 = (np.arange(1000)/3 == np.arange(1000.0)/3)\n",
    "divby5 = (np.arange(1000)/5 == np.arange(1000.0)/5)\n",
    "divby3or5 = divby3 | divby5\n",
    "print(np.sum(np.arange(1000)[divby3or5]))\n",
    "\n",
    "# or in one line...\n",
    "print(np.sum(np.arange(1000)[(np.arange(1000)/3 == np.arange(1000.0)/3) + (np.arange(1000)/5 == np.arange(1000.0)/5)]))"
   ]
  },
  {
   "cell_type": "markdown",
   "metadata": {
    "run_control": {
     "frozen": false,
     "read_only": false
    }
   },
   "source": [
    "# CODING BREAKOUT SOLUTION: Visualizing a radio source catalog\n"
   ]
  },
  {
   "cell_type": "code",
   "execution_count": null,
   "metadata": {
    "ExecuteTime": {
     "end_time": "2019-05-23T00:52:27.261288Z",
     "start_time": "2019-05-23T00:52:26.920997Z"
    },
    "run_control": {
     "frozen": false,
     "read_only": false
    }
   },
   "outputs": [],
   "source": [
    "catalog = np.load('GLEAM_Catalog_150MHz.npz')\n",
    "fLim = 5 #Jy\n",
    "fluxes = catalog['fluxes']\n",
    "print(list(catalog.keys()))\n",
    "plt.figure()\n",
    "plt.scatter(catalog['RAs'][fluxes>fLim],catalog['decs'][fluxes>fLim], \n",
    "            s=2*fluxes[fluxes>fLim], c=catalog['spIndices'][fluxes>fLim])\n",
    "#lw=0 removes the outlines, 2*fluxes makes the circles a bit easier to see\n",
    "\n",
    "plt.title('GLEAM Sources > 5 Jy at 150 MHz')\n",
    "plt.xlabel('Right Ascension (deg)')\n",
    "plt.ylabel('Declination (deg)')\n",
    "cbar = plt.colorbar(label='Spectral Index')"
   ]
  },
  {
   "cell_type": "markdown",
   "metadata": {
    "collapsed": true,
    "run_control": {
     "frozen": false,
     "read_only": false
    }
   },
   "source": [
    "# CODING BREAKOUT: Plot the Global Sky Model as a function of frequency"
   ]
  },
  {
   "cell_type": "code",
   "execution_count": null,
   "metadata": {
    "ExecuteTime": {
     "end_time": "2019-05-23T00:52:27.271818Z",
     "start_time": "2019-05-23T00:52:27.264039Z"
    },
    "run_control": {
     "frozen": false,
     "read_only": false
    }
   },
   "outputs": [],
   "source": [
    "map0 = np.load('GSM/GSM_NSIDE-64_Comp-0.npy')\n",
    "map1 = np.load('GSM/GSM_NSIDE-64_Comp-1.npy')\n",
    "map2 = np.load('GSM/GSM_NSIDE-64_Comp-2.npy')\n",
    "comps = np.loadtxt('GSM/components.dat')\n",
    "freqs = comps[:,0]\n",
    "temps = comps[:,1]\n",
    "W0, W1, W2 = comps[:,2], comps[:,3], comps[:,4]"
   ]
  },
  {
   "cell_type": "code",
   "execution_count": null,
   "metadata": {
    "ExecuteTime": {
     "end_time": "2019-05-23T00:52:27.286627Z",
     "start_time": "2019-05-23T00:52:27.273654Z"
    },
    "run_control": {
     "frozen": false,
     "read_only": false
    }
   },
   "outputs": [],
   "source": [
    "from scipy.interpolate import interp1d\n",
    "\n",
    "def GlobalSkyModel(f, maps, freqs, temps, weights):\n",
    "    tempNormalization = np.exp(interp1d(np.log(freqs), np.log(temps), kind='cubic')(np.log(freq))) \n",
    "    #cubic spline interpolation in log(f), log(T)\n",
    "    mapSum = 0\n",
    "    for W,Map in zip(weights,maps):\n",
    "        mapSum += interp1d(np.log(freqs), W, kind='cubic')(np.log(freq)) * Map  \n",
    "        #cubic spline interpolation in log(f), weight\n",
    "    return tempNormalization * mapSum"
   ]
  },
  {
   "cell_type": "code",
   "execution_count": null,
   "metadata": {
    "ExecuteTime": {
     "end_time": "2019-05-23T00:52:28.148178Z",
     "start_time": "2019-05-23T00:52:27.288203Z"
    },
    "run_control": {
     "frozen": false,
     "read_only": false
    }
   },
   "outputs": [],
   "source": [
    "#Now plot it using it mollview\n",
    "freq = 150 #MHz\n",
    "GSM = GlobalSkyModel(freq, [map0, map1, map2], freqs, temps, [W0, W1, W2])\n",
    "fig = plt.figure()\n",
    "healpy.mollview(np.log10(GSM), fig=fig.number, title='GSM at '+str(freq)+' MHz', unit='log$_{10}$[T (K)]')"
   ]
  },
  {
   "cell_type": "code",
   "execution_count": null,
   "metadata": {
    "run_control": {
     "frozen": false,
     "read_only": false
    }
   },
   "outputs": [],
   "source": []
  },
  {
   "cell_type": "code",
   "execution_count": null,
   "metadata": {
    "run_control": {
     "frozen": false,
     "read_only": false
    }
   },
   "outputs": [],
   "source": []
  }
 ],
 "metadata": {
  "kernelspec": {
   "display_name": "Python 3",
   "language": "python",
   "name": "python3"
  },
  "language_info": {
   "codemirror_mode": {
    "name": "ipython",
    "version": 3
   },
   "file_extension": ".py",
   "mimetype": "text/x-python",
   "name": "python",
   "nbconvert_exporter": "python",
   "pygments_lexer": "ipython3",
   "version": "3.7.3"
  }
 },
 "nbformat": 4,
 "nbformat_minor": 2
}
