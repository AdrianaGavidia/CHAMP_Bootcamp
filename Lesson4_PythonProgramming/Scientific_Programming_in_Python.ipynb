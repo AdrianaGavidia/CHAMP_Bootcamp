{
 "cells": [
  {
   "cell_type": "markdown",
   "metadata": {
    "run_control": {
     "frozen": false,
     "read_only": false
    }
   },
   "source": [
    "# Scientific Programming in Python\n",
    "Josh Dillon, [jsdillon@berkeley.edu](mailto:jsdillon@berkeley.edu)\n",
    "\n",
    "In this lesson, we're going to...TODO\n",
    "\n",
    "Adapted from Josh Bloom's Python Bootcamp lectures on [numpy](https://github.com/profjsb/python-bootcamp/blob/master/Lectures/21_NumpyMatplotlib/IntroNumPy.ipynb) and [matplotlib](https://github.com/profjsb/python-bootcamp/blob/master/Lectures/21_NumpyMatplotlib/IntroMatplolib.ipynb)."
   ]
  },
  {
   "cell_type": "code",
   "execution_count": 60,
   "metadata": {
    "ExecuteTime": {
     "end_time": "2017-05-11T13:32:52.566378",
     "start_time": "2017-05-11T13:32:52.526497"
    },
    "collapsed": true
   },
   "outputs": [],
   "source": [
    "import numpy as np\n",
    "import matplotlib.pyplot as plt\n",
    "%matplotlib notebook "
   ]
  },
  {
   "cell_type": "markdown",
   "metadata": {},
   "source": [
    "# Numpy"
   ]
  },
  {
   "cell_type": "markdown",
   "metadata": {},
   "source": [
    "## What are numpy arrays and how do they work?\n",
    "Numpy arrays are a lot like default python lists."
   ]
  },
  {
   "cell_type": "code",
   "execution_count": 61,
   "metadata": {
    "ExecuteTime": {
     "end_time": "2017-05-11T13:32:53.893592",
     "start_time": "2017-05-11T13:32:53.887715"
    },
    "collapsed": false
   },
   "outputs": [
    {
     "name": "stdout",
     "output_type": "stream",
     "text": [
      "Python list: [1, 2, 3]\n",
      "Numpy array: [1 2 3]\n"
     ]
    }
   ],
   "source": [
    "lst = [1,2,3]\n",
    "npa = np.array([1,2,3])\n",
    "print 'Python list:', lst\n",
    "print 'Numpy array:', npa"
   ]
  },
  {
   "cell_type": "markdown",
   "metadata": {},
   "source": [
    "Lists are a bit more general..."
   ]
  },
  {
   "cell_type": "code",
   "execution_count": 62,
   "metadata": {
    "ExecuteTime": {
     "end_time": "2017-05-11T13:32:54.557057",
     "start_time": "2017-05-11T13:32:54.552898"
    },
    "collapsed": false
   },
   "outputs": [
    {
     "name": "stdout",
     "output_type": "stream",
     "text": [
      "[1.0, 'dog', (1, 2), [[5, 5], [5, 5]], (1+1j), {'a': 7}]\n"
     ]
    }
   ],
   "source": [
    "lst = [1.0, 'dog', (1,2), [[5,5],[5,5]], 1.0+1.0j, {'a': 7}]\n",
    "print lst"
   ]
  },
  {
   "cell_type": "markdown",
   "metadata": {},
   "source": [
    "But lists don't really have a notion of acting upon every element like we would a vector or a matrix."
   ]
  },
  {
   "cell_type": "code",
   "execution_count": 63,
   "metadata": {
    "ExecuteTime": {
     "end_time": "2017-05-11T13:32:55.213647",
     "start_time": "2017-05-11T13:32:55.207795"
    },
    "collapsed": false
   },
   "outputs": [
    {
     "name": "stdout",
     "output_type": "stream",
     "text": [
      "[0, 1, 2, 3] [0, 1, 2, 3, 0, 1, 2, 3]\n",
      "[0 1 2 3] [0 2 4 6]\n"
     ]
    }
   ],
   "source": [
    "lst = range(4)\n",
    "print lst, lst*2\n",
    "nparr = np.arange(4)\n",
    "print nparr, nparr*2"
   ]
  },
  {
   "cell_type": "markdown",
   "metadata": {},
   "source": [
    "You can always turn a numpy array back into a list. You can make a numpy array from a list, but only if it's homogenous and rectangular."
   ]
  },
  {
   "cell_type": "code",
   "execution_count": 64,
   "metadata": {
    "ExecuteTime": {
     "end_time": "2017-05-11T13:32:55.910937",
     "start_time": "2017-05-11T13:32:55.887086"
    },
    "collapsed": false
   },
   "outputs": [
    {
     "name": "stdout",
     "output_type": "stream",
     "text": [
      "[0, 1, 2, 3]\n",
      "[[1 2]\n",
      " [3 4]]\n"
     ]
    },
    {
     "ename": "ValueError",
     "evalue": "setting an array element with a sequence.",
     "output_type": "error",
     "traceback": [
      "\u001b[0;31m---------------------------------------------------------------------------\u001b[0m",
      "\u001b[0;31mValueError\u001b[0m                                Traceback (most recent call last)",
      "\u001b[0;32m<ipython-input-64-8b823307cd4b>\u001b[0m in \u001b[0;36m<module>\u001b[0;34m()\u001b[0m\n\u001b[1;32m      2\u001b[0m \u001b[0;34m\u001b[0m\u001b[0m\n\u001b[1;32m      3\u001b[0m \u001b[0;32mprint\u001b[0m \u001b[0mnp\u001b[0m\u001b[0;34m.\u001b[0m\u001b[0marray\u001b[0m\u001b[0;34m(\u001b[0m\u001b[0;34m[\u001b[0m\u001b[0;34m[\u001b[0m\u001b[0;36m1\u001b[0m\u001b[0;34m,\u001b[0m\u001b[0;36m2\u001b[0m\u001b[0;34m]\u001b[0m\u001b[0;34m,\u001b[0m \u001b[0;34m[\u001b[0m\u001b[0;36m3\u001b[0m\u001b[0;34m,\u001b[0m\u001b[0;36m4\u001b[0m\u001b[0;34m]\u001b[0m\u001b[0;34m]\u001b[0m\u001b[0;34m)\u001b[0m\u001b[0;34m\u001b[0m\u001b[0m\n\u001b[0;32m----> 4\u001b[0;31m \u001b[0;32mprint\u001b[0m \u001b[0mnp\u001b[0m\u001b[0;34m.\u001b[0m\u001b[0marray\u001b[0m\u001b[0;34m(\u001b[0m\u001b[0;34m[\u001b[0m\u001b[0;36m10\u001b[0m\u001b[0;34m,\u001b[0m \u001b[0;34m[\u001b[0m\u001b[0;36m10\u001b[0m\u001b[0;34m,\u001b[0m\u001b[0;36m10\u001b[0m\u001b[0;34m]\u001b[0m\u001b[0;34m]\u001b[0m\u001b[0;34m)\u001b[0m\u001b[0;34m\u001b[0m\u001b[0m\n\u001b[0m",
      "\u001b[0;31mValueError\u001b[0m: setting an array element with a sequence."
     ]
    }
   ],
   "source": [
    "print list(np.arange(4))\n",
    "\n",
    "print np.array([[1,2], [3,4]])\n",
    "print np.array([10, [10,10]])"
   ]
  },
  {
   "cell_type": "markdown",
   "metadata": {},
   "source": [
    "## Array slicing and multidimensional arrays\n",
    "It's easy to initialize numpy arrays of ones or zeros, even in higher dimensions"
   ]
  },
  {
   "cell_type": "code",
   "execution_count": 65,
   "metadata": {
    "ExecuteTime": {
     "end_time": "2017-05-11T13:32:56.668251",
     "start_time": "2017-05-11T13:32:56.663434"
    },
    "collapsed": false
   },
   "outputs": [
    {
     "name": "stdout",
     "output_type": "stream",
     "text": [
      "[ 1.  1.  1.  1.  1.] \n",
      "\n",
      "[[ 0.  0.  0.  0.  0.]\n",
      " [ 0.  0.  0.  0.  0.]\n",
      " [ 0.  0.  0.  0.  0.]]\n"
     ]
    }
   ],
   "source": [
    "ones_1d = np.ones(5)\n",
    "zeros_2d = np.zeros((3,5))\n",
    "print ones_1d, '\\n\\n', zeros_2d"
   ]
  },
  {
   "cell_type": "markdown",
   "metadata": {},
   "source": [
    "And numpy supports all sorts of very useful list slicing (this takes some time to visualize and master)"
   ]
  },
  {
   "cell_type": "code",
   "execution_count": 66,
   "metadata": {
    "ExecuteTime": {
     "end_time": "2017-05-11T13:32:58.136824",
     "start_time": "2017-05-11T13:32:58.127145"
    },
    "collapsed": false,
    "scrolled": true
   },
   "outputs": [
    {
     "name": "stdout",
     "output_type": "stream",
     "text": [
      "Full array: [0 1 2 3 4 5 6 7 8 9]\n",
      "First element: 0\n",
      "Second element: 1\n",
      "Last element: 9\n",
      "Second-to-last element: 8\n",
      "First three elements: [0 1 2]\n",
      "Even elements: [0 2 4 6 8]\n",
      "Odd elements: [1 3 5 7 9]\n",
      "First three odd elements: [1 3 5]\n"
     ]
    }
   ],
   "source": [
    "nparr = np.arange(10)\n",
    "print 'Full array:', nparr\n",
    "print 'First element:', nparr[0]\n",
    "print 'Second element:', nparr[1]\n",
    "print 'Last element:', nparr[-1]\n",
    "print 'Second-to-last element:', nparr[-2]\n",
    "print 'First three elements:', nparr[0:3]\n",
    "print 'Even elements:', nparr[0::2]\n",
    "print 'Odd elements:', nparr[1::2]\n",
    "print 'First three odd elements:',nparr[1:6:2] "
   ]
  },
  {
   "cell_type": "code",
   "execution_count": 67,
   "metadata": {
    "ExecuteTime": {
     "end_time": "2017-05-11T13:32:58.759971",
     "start_time": "2017-05-11T13:32:58.752581"
    },
    "collapsed": false
   },
   "outputs": [
    {
     "name": "stdout",
     "output_type": "stream",
     "text": [
      "2d random array:\n",
      "[[ 0.13045476  0.8504469   0.70562777]\n",
      " [ 0.00988469  0.75964084  0.02530461]\n",
      " [ 0.09880245  0.34864079  0.08488974]\n",
      " [ 0.15384778  0.1220596   0.85174172]]\n",
      "\n",
      "First row:\n",
      "[ 0.13045476  0.8504469   0.70562777]\n",
      "\n",
      "Last column:\n",
      "[ 0.70562777  0.02530461  0.08488974  0.85174172]\n",
      "\n",
      "Top left 2x2 square:\n",
      "[[ 0.13045476  0.8504469 ]\n",
      " [ 0.00988469  0.75964084]]\n"
     ]
    }
   ],
   "source": [
    "rand_2d = np.random.rand(4,3) #random numbers between 0 and 1\n",
    "print '2d random array:\\n', rand_2d\n",
    "print '\\nFirst row:\\n', rand_2d[0,:]\n",
    "print '\\nLast column:\\n', rand_2d[:,-1]\n",
    "print '\\nTop left 2x2 square:\\n', rand_2d[0:2,0:2]"
   ]
  },
  {
   "cell_type": "markdown",
   "metadata": {},
   "source": [
    "You can even index an array with an array of booleans or integer indices."
   ]
  },
  {
   "cell_type": "code",
   "execution_count": 68,
   "metadata": {
    "ExecuteTime": {
     "end_time": "2017-05-11T13:32:59.695195",
     "start_time": "2017-05-11T13:32:59.686817"
    },
    "collapsed": false,
    "run_control": {
     "frozen": false,
     "read_only": false
    }
   },
   "outputs": [
    {
     "name": "stdout",
     "output_type": "stream",
     "text": [
      "test1 = [0 1 2 3 4 5 6 7 8 9]\n",
      "test2 = [ 0  2  4  6  8 10 12 14 16 18]\n",
      "Are elements of test1 > 4? [False False False False False  True  True  True  True  True]\n",
      "Elements of test2 where corresponding element of test1 > 4: [10 12 14 16 18]\n",
      "Elements of test2 where corresponding element of test2 > 4: [ 6  8 10 12 14 16 18]\n",
      "Elements 3, 1, and 4 of test2: [6 2 8]\n"
     ]
    }
   ],
   "source": [
    "test1 = np.arange(10)\n",
    "test2 = 2*np.arange(10)\n",
    "print 'test1 =', test1\n",
    "print 'test2 =', test2\n",
    "print 'Are elements of test1 > 4?', test1 > 4\n",
    "print 'Elements of test2 where corresponding element of test1 > 4:', test2[test1 > 4]\n",
    "print 'Elements of test2 where corresponding element of test2 > 4:', test2[test2 > 4]\n",
    "print 'Elements 3, 1, and 4 of test2:', test2[[3,1,4]]"
   ]
  },
  {
   "cell_type": "markdown",
   "metadata": {},
   "source": [
    "## Numpy arrays can be so much faster than lists for manipulating data\n",
    "Under the hood, numpy arrays use C code (which is much faster than Python, generally speaking) to perform common mathematical algorithms very quickly."
   ]
  },
  {
   "cell_type": "code",
   "execution_count": 69,
   "metadata": {
    "ExecuteTime": {
     "end_time": "2017-05-11T13:33:01.565303",
     "start_time": "2017-05-11T13:33:00.927981"
    },
    "collapsed": false
   },
   "outputs": [
    {
     "name": "stdout",
     "output_type": "stream",
     "text": [
      "Square each number in x and then append it to a list...\n",
      "100 loops, best of 3: 1.34 ms per loop\n",
      "\n",
      "Do the same but with list comprehension...\n",
      "100 loops, best of 3: 685 µs per loop\n",
      "\n",
      "Now try with numpy...\n",
      "100 loops, best of 3: 5.25 µs per loop\n"
     ]
    }
   ],
   "source": [
    "print 'Square each number in x and then append it to a list...'\n",
    "arr = []\n",
    "x = range(10000)\n",
    "%timeit -n 100 for k in x: arr.append(k**2)\n",
    "\n",
    "print '\\nDo the same but with list comprehension...'\n",
    "x = range(10000)\n",
    "%timeit -n 100 [k**2 for k in x]\n",
    "\n",
    "print '\\nNow try with numpy...'\n",
    "x = np.arange(10000)\n",
    "%timeit -n 100 x**2"
   ]
  },
  {
   "cell_type": "markdown",
   "metadata": {},
   "source": [
    "## Numpy also lets you do other math on arrays \n",
    "(You can often also do this on lists too, though the output will generally be numpy arrays)"
   ]
  },
  {
   "cell_type": "code",
   "execution_count": 73,
   "metadata": {
    "ExecuteTime": {
     "end_time": "2017-05-11T13:33:21.662916",
     "start_time": "2017-05-11T13:33:21.657793"
    },
    "collapsed": false,
    "scrolled": true
   },
   "outputs": [
    {
     "name": "stdout",
     "output_type": "stream",
     "text": [
      "3.14159265359\n",
      "2.71828182846\n",
      "[ 0.          0.70710678  1.          0.70710678]\n",
      "<type 'numpy.ndarray'>\n"
     ]
    }
   ],
   "source": [
    "print np.pi\n",
    "print np.e\n",
    "\n",
    "sines = np.sin([np.pi/4 * n for n in range(4)])\n",
    "print sines\n",
    "print type(sines) "
   ]
  },
  {
   "cell_type": "markdown",
   "metadata": {},
   "source": [
    "This is especially useful for doing statistics."
   ]
  },
  {
   "cell_type": "code",
   "execution_count": 74,
   "metadata": {
    "ExecuteTime": {
     "end_time": "2017-05-11T13:33:26.124760",
     "start_time": "2017-05-11T13:33:26.118212"
    },
    "collapsed": false
   },
   "outputs": [
    {
     "name": "stdout",
     "output_type": "stream",
     "text": [
      "vec1:  [0 1 2 3 4 5]\n",
      "sum: 15\n",
      "mean: 2.5\n",
      "median: 2.5\n",
      "standard deviation: 1.70782512766\n"
     ]
    }
   ],
   "source": [
    "vec1 = np.arange(6)\n",
    "print 'vec1: ', vec1\n",
    "print 'sum:', np.sum(vec1)\n",
    "print 'mean:', np.mean(vec1)\n",
    "print 'median:', np.median(vec1)\n",
    "print 'standard deviation:', np.std(vec1)\n"
   ]
  },
  {
   "cell_type": "markdown",
   "metadata": {},
   "source": [
    "More importantly, numpy is optimized for vector and matrix operations. In general, array operations are element-wise:"
   ]
  },
  {
   "cell_type": "code",
   "execution_count": 75,
   "metadata": {
    "ExecuteTime": {
     "end_time": "2017-05-11T13:33:27.678826",
     "start_time": "2017-05-11T13:33:27.670581"
    },
    "collapsed": false
   },
   "outputs": [
    {
     "name": "stdout",
     "output_type": "stream",
     "text": [
      "Multiplication arr1*arr2:\n",
      "[  0   2   8  18  32  50  72  98 128 162]\n",
      "Complex scalar multiplication and vector subtraction:\n",
      "[  0. +0.j    6. -1.5j  12. -3.j   18. -4.5j  24. -6.j   30. -7.5j\n",
      "  36. -9.j   42.-10.5j  48.-12.j   54.-13.5j]\n",
      "\n",
      "mat1 * mat2 =\n",
      "[[ 0  2]\n",
      " [ 6 12]]\n",
      "mat1 - mat2 =\n",
      "[[1 1]\n",
      " [1 1]]\n"
     ]
    }
   ],
   "source": [
    "arr1 = np.arange(10)\n",
    "arr2 = 2*np.arange(10)\n",
    "print 'Multiplication arr1*arr2:\\n', arr1 * arr2\n",
    "print 'Complex scalar multiplication and vector subtraction:\\n', 3.0*arr2 - 1.5j*arr1\n",
    "mat1 = np.array([[1,2],[3,4]])\n",
    "mat2 = np.array([[0,1],[2,3]])\n",
    "print '\\nmat1 * mat2 =\\n', mat1 * mat2\n",
    "print 'mat1 - mat2 =\\n', mat1 - mat2"
   ]
  },
  {
   "cell_type": "markdown",
   "metadata": {
    "ExecuteTime": {
     "end_time": "2017-05-10T18:16:16.093125",
     "start_time": "2017-05-10T18:16:16.089361"
    }
   },
   "source": [
    "However, we'll often want to do special vector-vector or matrix-vector or matrix-matrix operations in numpy. In particular, np.dot() is a very useufl multipurpose tool"
   ]
  },
  {
   "cell_type": "code",
   "execution_count": 77,
   "metadata": {
    "ExecuteTime": {
     "end_time": "2017-05-11T13:33:47.125085",
     "start_time": "2017-05-11T13:33:47.119027"
    },
    "collapsed": false
   },
   "outputs": [
    {
     "name": "stdout",
     "output_type": "stream",
     "text": [
      "[0 1 2 3 4]\n",
      "30\n",
      "30\n"
     ]
    }
   ],
   "source": [
    "vec1 = np.array(range(5))\n",
    "vec2 = np.array([-1,0,1,-1,0])\n",
    "print vec1\n",
    "print np.sum(vec1*vec1)\n",
    "print np.dot(vec1,vec1)\n",
    "\n",
    "#TODO: add matrix products"
   ]
  },
  {
   "cell_type": "markdown",
   "metadata": {},
   "source": [
    "## Other cool and potentially useful numpy functions"
   ]
  },
  {
   "cell_type": "code",
   "execution_count": null,
   "metadata": {
    "collapsed": true
   },
   "outputs": [],
   "source": [
    "#random numbers"
   ]
  },
  {
   "cell_type": "markdown",
   "metadata": {},
   "source": [
    "## File input and output with Numpy"
   ]
  },
  {
   "cell_type": "code",
   "execution_count": null,
   "metadata": {
    "collapsed": true
   },
   "outputs": [],
   "source": []
  },
  {
   "cell_type": "markdown",
   "metadata": {},
   "source": [
    "# Matplotlib"
   ]
  },
  {
   "cell_type": "markdown",
   "metadata": {},
   "source": [
    "## Basic plotting with Matplotlib"
   ]
  },
  {
   "cell_type": "code",
   "execution_count": null,
   "metadata": {
    "collapsed": true
   },
   "outputs": [],
   "source": []
  },
  {
   "cell_type": "markdown",
   "metadata": {},
   "source": [
    "## Manipulating and customizing plots"
   ]
  },
  {
   "cell_type": "code",
   "execution_count": null,
   "metadata": {
    "collapsed": true
   },
   "outputs": [],
   "source": []
  },
  {
   "cell_type": "markdown",
   "metadata": {},
   "source": []
  },
  {
   "cell_type": "code",
   "execution_count": null,
   "metadata": {
    "collapsed": true
   },
   "outputs": [],
   "source": []
  },
  {
   "cell_type": "code",
   "execution_count": null,
   "metadata": {
    "collapsed": true
   },
   "outputs": [],
   "source": []
  }
 ],
 "metadata": {
  "kernelspec": {
   "display_name": "Python 2",
   "language": "python",
   "name": "python2"
  },
  "language_info": {
   "codemirror_mode": {
    "name": "ipython",
    "version": 2
   },
   "file_extension": ".py",
   "mimetype": "text/x-python",
   "name": "python",
   "nbconvert_exporter": "python",
   "pygments_lexer": "ipython2",
   "version": "2.7.11"
  }
 },
 "nbformat": 4,
 "nbformat_minor": 2
}
