{
 "cells": [
  {
   "cell_type": "markdown",
   "metadata": {},
   "source": [
    "# HERA Data Analysis Part I\n",
    "\n",
    "## Workshop Leaders: Carina & Josh"
   ]
  },
  {
   "cell_type": "markdown",
   "metadata": {},
   "source": [
    "# A) Warm-Up"
   ]
  },
  {
   "cell_type": "markdown",
   "metadata": {},
   "source": [
    "Load HERA data file `zen.2458098.40887.xx.HH.uvOCR` (which is on your laptop in the `data` folder) using the `read_miriad` function from the `UVData` object in the `pyuvdata` module. Then answer these basic questions about the data:\n",
    "\n",
    "i) Which antennas are there?\n",
    "\n",
    "ii) How many baselines are there? Does this make sense given the number of antennas?\n",
    "\n",
    "iii) How many frequencies are there, and what range does it cover (in MHz)? What is the width of each frequency channel (in MHz)?\n",
    "\n",
    "iv) How many time integrations are there in total?\n",
    "\n",
    "v) What LSTs are in the data (in hours)? Eliminate repeat entries using `np.unique`."
   ]
  },
  {
   "cell_type": "code",
   "execution_count": null,
   "metadata": {},
   "outputs": [],
   "source": [
    "from pyuvdata import UVData\n",
    "import numpy as np\n",
    "\n",
    "# load data here"
   ]
  },
  {
   "cell_type": "code",
   "execution_count": null,
   "metadata": {},
   "outputs": [],
   "source": [
    "# your answers here (hint: look at the attributes of your uvd object)"
   ]
  },
  {
   "cell_type": "markdown",
   "metadata": {},
   "source": [
    "# B) Accessing and Visualizing Data and Flags"
   ]
  },
  {
   "cell_type": "markdown",
   "metadata": {},
   "source": [
    "Let's first look at our antenna layout to get an idea of antenna locations and spacings."
   ]
  },
  {
   "cell_type": "code",
   "execution_count": null,
   "metadata": {},
   "outputs": [],
   "source": [
    "import matplotlib.pyplot as plt\n",
    "%matplotlib notebook\n",
    "\n",
    "antpos, ants = uvd.get_ENU_antpos() # this returns coordinates of each antenna and a list of the antennas\n",
    "\n",
    "plt.figure()\n",
    "plt.scatter(antpos[:,0], antpos[:,1], marker='.', color='k', s=3000) # plot the antenna positions with black circles\n",
    "for aa,ant in enumerate(range(len(ants))): # loop over antennas\n",
    "    plt.text(antpos[aa,0], antpos[aa,1], ants[aa], color='w', va='center', ha='center') # label antenna numbers\n",
    "plt.xlabel('X-position (m)')\n",
    "plt.ylabel('Y-position (m)')\n",
    "plt.axis('equal');"
   ]
  },
  {
   "cell_type": "markdown",
   "metadata": {},
   "source": [
    "Let's now access the visibility data in our file for baseline (65,71), a long E/W baseline, and plot the real and imaginary part of the visibility for the first time integration."
   ]
  },
  {
   "cell_type": "code",
   "execution_count": null,
   "metadata": {},
   "outputs": [],
   "source": [
    "key = (65,71,'xx') # tuple containing baseline and polarization\n",
    "vis = uvd.get_data(key) # returns data \n",
    "print 'Shape of data:', vis.shape # shape of data is (times, freqs)\n",
    "\n",
    "plt.figure()\n",
    "plt.plot(uvd.freq_array[0]/1e6, vis[0,:].real, 'b-', label='Real part')\n",
    "plt.plot(uvd.freq_array[0]/1e6, vis[0,:].imag, 'r-', label='Imag part')\n",
    "plt.xlabel('Frequency (MHz)')\n",
    "plt.ylabel('Visibility (Jy)')\n",
    "plt.grid(); plt.legend();"
   ]
  },
  {
   "cell_type": "markdown",
   "metadata": {},
   "source": [
    "Exercise: Choose a few frequency channels and plot them as a function of time."
   ]
  },
  {
   "cell_type": "code",
   "execution_count": null,
   "metadata": {},
   "outputs": [],
   "source": [
    "# your answer here "
   ]
  },
  {
   "cell_type": "markdown",
   "metadata": {},
   "source": [
    "# C) Waterfall Plots"
   ]
  },
  {
   "cell_type": "markdown",
   "metadata": {},
   "source": [
    "Another useful way of visualizing our data is to plot it as a waterfall plot. A waterfall plot is a two-dimensional plot of the visibility (the cross-correlated signal between a pair of antennas) as a function of time (y-axis) and frequency (x-axis). We can use the `plt.imshow` to plot the amplitude and phase of the same baseline as above. Note that the keyword `extent` takes in 4 arguments which define the plot axes extent in the order of (xmin, xmax, ymin, ymax), and we've massaged our axes to display frequencies in MHz and times in LST hours."
   ]
  },
  {
   "cell_type": "code",
   "execution_count": null,
   "metadata": {},
   "outputs": [],
   "source": [
    "import matplotlib \n",
    "\n",
    "# Plot absolute value of visibility\n",
    "plt.figure(figsize=(10,4))\n",
    "plt.subplot(121)\n",
    "plt.imshow(np.abs(vis), aspect='auto', norm=matplotlib.colors.LogNorm(1e0,1e2),\n",
    "          extent=(np.min(uvd.freq_array[0])/1e6,np.max(uvd.freq_array[0])/1e6,\n",
    "                  np.max(np.unique(uvd.lst_array))*12/np.pi,np.min(np.unique(uvd.lst_array))*12/np.pi))\n",
    "plt.colorbar(label='Visibility Amplitude (Jy)')\n",
    "plt.xlabel('Frequency (MHz)')\n",
    "plt.ylabel('LST (hours)')\n",
    "plt.title('Amplitude')\n",
    "\n",
    "# Plot phase of visibility\n",
    "plt.subplot(122)\n",
    "plt.imshow(np.angle(vis), aspect='auto',\n",
    "          extent=(np.min(uvd.freq_array[0])/1e6,np.max(uvd.freq_array[0])/1e6,\n",
    "                  np.max(np.unique(uvd.lst_array))*12/np.pi,np.min(np.unique(uvd.lst_array))*12/np.pi))\n",
    "plt.colorbar(label='Visibility Phase')\n",
    "plt.xlabel('Frequency (MHz)')\n",
    "plt.ylabel('LST (hours)')\n",
    "plt.title('Phase')\n",
    "\n",
    "plt.tight_layout();"
   ]
  },
  {
   "cell_type": "markdown",
   "metadata": {},
   "source": [
    "Some features to note from the waterfall plots:\n",
    "* RFI\n",
    "* Band edges\n",
    "* Frequency and temporal structure"
   ]
  },
  {
   "cell_type": "markdown",
   "metadata": {},
   "source": [
    "Exercise: Pick a short baseline and a long baseline of the same orientation. Make waterfall plots (in both amplitude and phase) for both. How do they differ?"
   ]
  },
  {
   "cell_type": "code",
   "execution_count": null,
   "metadata": {},
   "outputs": [],
   "source": [
    "# your answer here"
   ]
  },
  {
   "cell_type": "markdown",
   "metadata": {},
   "source": [
    "Exericse: How do the waterfall plots differ for an E/W baseline vs. a N/S baseline (of approximately similar lengths)? Does this make sense?"
   ]
  },
  {
   "cell_type": "code",
   "execution_count": null,
   "metadata": {},
   "outputs": [],
   "source": [
    "# your answer here"
   ]
  },
  {
   "cell_type": "markdown",
   "metadata": {},
   "source": [
    "# D) The Delay Transform"
   ]
  },
  {
   "cell_type": "markdown",
   "metadata": {},
   "source": [
    "The delay transform is a clever technique we use to isolate bright foregrounds in our data (which we can then filter out). The delay transform is simply the Fourier transform of the visibility along frequency. \n",
    "\n",
    "Exercise: Try implementing the delay transform using `np.fft.fft` by following the steps below. We will think about its interpretation after."
   ]
  },
  {
   "cell_type": "code",
   "execution_count": null,
   "metadata": {},
   "outputs": [],
   "source": [
    "key = (53,54,'xx') # sample baseline and pol \n",
    "vis = uvd.get_data(key) # get data\n",
    "\n",
    "\n",
    "# 1) Fourier transform \"vis\" along the frequency axis (don't forget to fftshift after)\n",
    "\n",
    "vis_dt = # your answer here \n",
    "\n",
    "# 2) Find the frequency width of a channel in GHz\n",
    "\n",
    "freq_width = # your answer here\n",
    "\n",
    "#3) Convert frequencies to delays. Numpy's fftfreq function takes two arguments: \n",
    "#   the number of frequencies, and the frequeny width you calculated above\n",
    "\n",
    "delays = # your answer here\n",
    "\n",
    "\n",
    "\n",
    "plt.figure()\n",
    "plt.imshow(np.abs(vis_dt), aspect='auto', norm=matplotlib.colors.LogNorm(1e0,1e5),\n",
    "          extent=(np.min(delays),np.max(delays),\n",
    "                  np.max(np.unique(uvd.lst_array))*12/np.pi,np.min(np.unique(uvd.lst_array))*12/np.pi))\n",
    "plt.colorbar(label='Visibility Amplitude (Jy)')\n",
    "plt.xlabel('Delay (ns)')\n",
    "plt.ylabel('LST (hours)')\n",
    "plt.xlim(-1000,1000) # zoom-in\n",
    "plt.title('Delay Transform');"
   ]
  },
  {
   "cell_type": "markdown",
   "metadata": {},
   "source": [
    "Yuck! What happened? All that bright RFI - which are very well localized in frequency space - has spread out in delay space, causing those bright horizontal streaks.\n",
    "\n",
    "Luckily, we flag RFI in our pipeline and the flags are saved as `uvd.get_flags(key)`. \n",
    "\n",
    "Exercise: Plot a waterfall plot of the flags."
   ]
  },
  {
   "cell_type": "code",
   "execution_count": null,
   "metadata": {},
   "outputs": [],
   "source": [
    "# your answer here"
   ]
  },
  {
   "cell_type": "markdown",
   "metadata": {},
   "source": [
    "Exericse: Now plot the delay transform again, but this time multiply the visibility data by `~uvd.get_flags(key)` (the tilde is to invert the flags, because the saved flags have 1's where the flags are)."
   ]
  },
  {
   "cell_type": "code",
   "execution_count": null,
   "metadata": {},
   "outputs": [],
   "source": [
    "# your answer here"
   ]
  },
  {
   "cell_type": "markdown",
   "metadata": {},
   "source": [
    "That's better. So what do we see here? All the bright stuff at low delay values correspond to bright foreground sources that are smooth in frequency (and therefore \"peaky\" in delay). This is nice for us because we've isolated the foregrounds and we can filter them out easily in this space.\n",
    "\n",
    "Let's think about what \"delay\" means physically. A delay can be thought of as the time difference between when a lightwave hits one antenna and when it hits the second antenna. In other words, there is a time lag between light hitting each antenna depending on the direction it comes from and the orientation of the baseline.\n",
    "\n",
    "Where would the light have to be coming from for the time delay to be zero? Where would it need to be coming from to produce a maximum delay (hint: we call this the horizon limit)?"
   ]
  },
  {
   "cell_type": "markdown",
   "metadata": {},
   "source": [
    "Exercise: For the baseline we picked earlier, calculate the theoretical maximum delay (in nanoseconds), using $t = d/c$, where $t$ is the time delay, $d$ is the baseline distance, and $c$ is the speed of light. You can calculate the baseline distance using the saved `antpos` and `ants` variables from earlier, or approximate it using the antenna layout plot."
   ]
  },
  {
   "cell_type": "code",
   "execution_count": null,
   "metadata": {},
   "outputs": [],
   "source": [
    "# your answer here"
   ]
  },
  {
   "cell_type": "markdown",
   "metadata": {},
   "source": [
    "A cool trick for a faster calculation is to convert your distance $d$ to feet. That number is also approximately the time delay in nanoseconds! \n",
    "\n",
    "Also note that the foregrounds in our delay-transform plot spread out past this horizon limit. This is due to reflections and other effects. But, they are still well isolated and we can now filter them out!"
   ]
  },
  {
   "cell_type": "code",
   "execution_count": null,
   "metadata": {},
   "outputs": [],
   "source": [
    "from hera_cal import delay_filter\n",
    "\n",
    "df = delay_filter.Delay_Filter() # establish delay filter object\n",
    "df.load_data(uvd) # load UVData object\n",
    "df.run_filter(to_filter=[key]) # filter the specific key we want (otherwise it takes a long time to do all keys)\n",
    "\n",
    "vis_df = df.filtered_residuals[key] # filtered visibility (i.e. the cleaned visibility)\n",
    "clean = df.CLEAN_models[key] # low delay modes we don't want (i.e. the stuff gets filtered out)\n",
    "\n",
    "# Plot\n",
    "plt.figure(figsize=(10,3))\n",
    "plt.subplot(131)\n",
    "plt.imshow(np.abs(uvd.get_data(key)), aspect='auto', norm=matplotlib.colors.LogNorm(1e0,1e2),\n",
    "          extent=(np.min(uvd.freq_array[0])/1e6,np.max(uvd.freq_array[0])/1e6,\n",
    "                  np.max(np.unique(uvd.lst_array))*12/np.pi,np.min(np.unique(uvd.lst_array))*12/np.pi))\n",
    "plt.colorbar(label='Visibility Amplitude (Jy)')\n",
    "plt.xlabel('Frequency (MHz)')\n",
    "plt.ylabel('LST (hours)')\n",
    "plt.title('Original Visibility')\n",
    "\n",
    "plt.subplot(132)\n",
    "plt.imshow(np.abs(vis_df), aspect='auto', norm=matplotlib.colors.LogNorm(1e0,1e2),\n",
    "          extent=(np.min(uvd.freq_array[0])/1e6,np.max(uvd.freq_array[0])/1e6,\n",
    "                  np.max(np.unique(uvd.lst_array))*12/np.pi,np.min(np.unique(uvd.lst_array))*12/np.pi))\n",
    "plt.colorbar(label='Visibility Amplitude (Jy)')\n",
    "plt.xlabel('Frequency (MHz)')\n",
    "plt.ylabel('LST (hours)')\n",
    "plt.title('Cleaned Visibility')\n",
    "\n",
    "plt.subplot(133)\n",
    "plt.imshow(np.abs(clean), aspect='auto', norm=matplotlib.colors.LogNorm(1e0,1e2),\n",
    "          extent=(np.min(uvd.freq_array[0])/1e6,np.max(uvd.freq_array[0])/1e6,\n",
    "                  np.max(np.unique(uvd.lst_array))*12/np.pi,np.min(np.unique(uvd.lst_array))*12/np.pi))\n",
    "plt.colorbar(label='Visibility Phase')\n",
    "plt.xlabel('Frequency (MHz)')\n",
    "plt.ylabel('LST (hours)')\n",
    "plt.title('CLEAN Components')\n",
    "\n",
    "plt.tight_layout();"
   ]
  },
  {
   "cell_type": "markdown",
   "metadata": {},
   "source": [
    "Comparing the left and middle plots, we see that we've reduced the amplitude of our visibility by a couple orders of magnitude! We also see that some of the foreground structure we see in the left plot has been removed, as the middle plot looks more noise-like. Delay-filtering is a crucial step of the HERA analysis pipeline - afterall, we are trying to find a tiny signal (the 21cm EoR signal) buried underneath a lot of stuff we don't care about!"
   ]
  },
  {
   "cell_type": "markdown",
   "metadata": {},
   "source": [
    "# E) Extra Credit Exercises"
   ]
  },
  {
   "cell_type": "markdown",
   "metadata": {
    "collapsed": true
   },
   "source": [
    "1) Loop through all antennas and look at their auto-correlations (correlations between the same antennas, like (53,53) for example) to identify which antennas are dead/don't have data. Color those antennas red on the antenna layout plot.\n",
    "\n",
    "2) Pick a baseline with obvious RFI in its visibility. Write an algorithm to identity the RFI, and compare your results to the actual flags.\n",
    "\n",
    "3) Pick a baseline type (a common one in the array) and make a list containing all those redundant baselines. Then loop through them and run the delay filter on each visibility. Stack all the delay-filtered visibilities (average them). How much sensitivity did you gain by filtering and averaging?"
   ]
  }
 ],
 "metadata": {
  "kernelspec": {
   "display_name": "Python 2",
   "language": "python",
   "name": "python2"
  },
  "language_info": {
   "codemirror_mode": {
    "name": "ipython",
    "version": 2
   },
   "file_extension": ".py",
   "mimetype": "text/x-python",
   "name": "python",
   "nbconvert_exporter": "python",
   "pygments_lexer": "ipython2",
   "version": "2.7.14"
  }
 },
 "nbformat": 4,
 "nbformat_minor": 2
}
