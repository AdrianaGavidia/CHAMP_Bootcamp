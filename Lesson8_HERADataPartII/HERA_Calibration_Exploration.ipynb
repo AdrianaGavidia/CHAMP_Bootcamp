{
 "cells": [
  {
   "cell_type": "markdown",
   "metadata": {},
   "source": [
    "# HERA Data Part II : Calibration Exploration\n",
    "\n",
    "**CHAMP Bootcamp**\n",
    "<br>\n",
    "**June 14, 2018**\n",
    "<br>\n",
    "**St. John's College, Sante Fe, NM**"
   ]
  },
  {
   "cell_type": "markdown",
   "metadata": {
    "collapsed": true
   },
   "source": [
    "In this demo we will explore HERA data, calibration solutions, and how to apply them to the data."
   ]
  },
  {
   "cell_type": "code",
   "execution_count": null,
   "metadata": {
    "collapsed": true
   },
   "outputs": [],
   "source": [
    "%matplotlib notebook\n",
    "import matplotlib.pyplot as plt\n",
    "import numpy as np\n",
    "from pyuvdata import UVData, UVCal\n",
    "import hera_cal as hc\n",
    "import uvtools.plot as plotter"
   ]
  },
  {
   "cell_type": "markdown",
   "metadata": {},
   "source": [
    "## 1) Load the un-calibrated data into a `UVData` object\n",
    "\n",
    "This is the `data/zen.2458116.24482.xx.HH.uvOCRU` file."
   ]
  },
  {
   "cell_type": "code",
   "execution_count": null,
   "metadata": {},
   "outputs": [],
   "source": [
    "# list files in current working directory\n",
    "!ls"
   ]
  },
  {
   "cell_type": "code",
   "execution_count": null,
   "metadata": {
    "collapsed": true
   },
   "outputs": [],
   "source": [
    "# load the data: this may take up to ~15 seconds...\n",
    "uvd = UVData()\n",
    "uvd.read_miriad(\"data/zen.2458116.24482.xx.HH.uvOCRU\")"
   ]
  },
  {
   "cell_type": "code",
   "execution_count": null,
   "metadata": {},
   "outputs": [],
   "source": [
    "# make a waterfall plot of data amplitude between antenna 24 & antenna 25\n",
    "plt.figure(figsize=(9, 5))\n",
    "data = uvd.get_data(24, 25)\n",
    "plotter.waterfall(np.abs(data), mode='real', mx=.05)\n",
    "plt.xlabel('frequency channel' , fontsize=14)\n",
    "plt.ylabel('times' , fontsize=14)\n",
    "plt.colorbar(label='amplitude')\n",
    "plt.title(\"data amplitude 24 -- 25\")"
   ]
  },
  {
   "cell_type": "code",
   "execution_count": null,
   "metadata": {
    "collapsed": true
   },
   "outputs": [],
   "source": [
    "# make a waterfall plot of visibility phase between antenna 24 & antenna 25\n",
    "# Hint 1: use np.angle\n",
    "# Hint 2: use mx= kwarg to toggle maximum colorbar saturation \n",
    "\n"
   ]
  },
  {
   "cell_type": "markdown",
   "metadata": {},
   "source": [
    "## 2) Load the gain solutions into a `UVCal` object\n",
    "\n",
    "Use the `data/zen.2458116.24482.xx.HH.uv.abs.calfits` file."
   ]
  },
  {
   "cell_type": "code",
   "execution_count": null,
   "metadata": {
    "collapsed": true
   },
   "outputs": [],
   "source": [
    "# load the gain solutions\n",
    "uvc = UVCal()\n",
    "uvc.read_calfits(\"filename\")\n",
    "\n",
    "# use this function to get gains from the uvc object\n",
    "def cal_get_data(uvc, ant, time=None, chan=None):\n",
    "    if chan is not None:\n",
    "        freq = chan\n",
    "    else:\n",
    "        freq = slice(None)\n",
    "    if time is not None:\n",
    "        assert chan is None\n",
    "    else:\n",
    "        time = slice(None)\n",
    "    return uvc.gain_array[uvc.ant_array.tolist().index(ant), 0, freq, time, 0].T"
   ]
  },
  {
   "cell_type": "code",
   "execution_count": null,
   "metadata": {
    "collapsed": true
   },
   "outputs": [],
   "source": [
    "# make a waterfall plot of antenna 24 gain amplitude\n",
    "\n"
   ]
  },
  {
   "cell_type": "code",
   "execution_count": null,
   "metadata": {
    "collapsed": true
   },
   "outputs": [],
   "source": [
    "# make a line plot of all antenna gain amplitudes in one plot, and in another plot gain phases\n",
    "# at frequency channel 512\n",
    "# Hint 1: use a FOR loop over uvc.ant_array\n",
    "\n",
    "fig = plt.figure(figsize=(9, 5))\n",
    "\n",
    "plt.subplot(2, 1, 2)\n",
    "for ant in uvc.ant_array:\n",
    "    # plot antenna phases here\n",
    "\n",
    "    \n",
    "plt.subplot(2, 1, 1)\n",
    "for ant in uvc.ant_array:\n",
    "    # plot antenna amplitudes here\n",
    "\n",
    "    \n",
    "plt.legend(uvc.ant_array, ncol=2, borderaxespad=-3, loc=0, fontsize=10)"
   ]
  },
  {
   "cell_type": "markdown",
   "metadata": {},
   "source": [
    "How much does the gain amplitude vary over the course of the file? Do certain antennas look different than others? Which ones? Hint: try changing the colormap between `magma` and `'None'` to identify antennas, ex: `cmap='magma'`."
   ]
  },
  {
   "cell_type": "code",
   "execution_count": null,
   "metadata": {
    "collapsed": true
   },
   "outputs": [],
   "source": [
    "# make a line plot of all antenna gain amplitudes in one plot, and in another plot gain phases\n",
    "# at time index 30\n",
    "# Hint 1: use a FOR loop over uvc.ant_array\n",
    "# Hint 2: use plt.ylim(a, b) to change y-axis range\n",
    "\n",
    "fig = plt.figure(figsize=(9, 5))\n",
    "\n",
    "plt.subplot(2, 1, 2)\n",
    "for ant in uvc.ant_array:\n",
    "    # plot antenna phases here\n",
    "\n",
    "    \n",
    "plt.subplot(2, 1, 1)\n",
    "for ant in uvc.ant_array:\n",
    "    # plot antenna amplitudes here\n",
    "\n",
    "    \n",
    "plt.legend(uvc.ant_array, ncol=2, borderaxespad=-3, loc=0, fontsize=10)"
   ]
  },
  {
   "cell_type": "markdown",
   "metadata": {},
   "source": [
    "What do you see in the gain amplitude and phase across frequency? What might cause these features?"
   ]
  },
  {
   "cell_type": "markdown",
   "metadata": {
    "collapsed": true
   },
   "source": [
    "## 3) Load the model visibility into a `UVData` object\n",
    "\n",
    "Use the `data/zen.2458116.24482.xx.HH.uvXRS2` file."
   ]
  },
  {
   "cell_type": "code",
   "execution_count": null,
   "metadata": {
    "collapsed": true
   },
   "outputs": [],
   "source": [
    "# load the model: this may take up to ~15 seconds\n",
    "uvm = UVData()\n",
    "uvm.read_miriad('filename')"
   ]
  },
  {
   "cell_type": "code",
   "execution_count": null,
   "metadata": {
    "collapsed": true
   },
   "outputs": [],
   "source": [
    "# make a waterfall plot of model amplitude between antenna 24 & antenna 25\n",
    "\n"
   ]
  },
  {
   "cell_type": "markdown",
   "metadata": {
    "collapsed": true
   },
   "source": [
    "## 4) Apply the calibration gain solution\n",
    "\n",
    "Recall that, ideally:\n",
    "\n",
    "\\begin{align}\n",
    "\\Large V_{ij}^{\\rm data} = g_ig_j^\\ast V_{ij}^{\\rm model}\n",
    "\\end{align}\n",
    "\n",
    "such that we can compute\n",
    "\n",
    "\\begin{align}\n",
    "\\Large V_{ij}^{\\rm updated\\ data} = V_{ij}^{\\rm data} / (g_i g_j^\\ast)\n",
    "\\end{align}"
   ]
  },
  {
   "cell_type": "code",
   "execution_count": null,
   "metadata": {
    "collapsed": true
   },
   "outputs": [],
   "source": [
    "# apply calibration to V_24_25 and make a waterfall plot of updated data amplitude\n",
    "\n"
   ]
  },
  {
   "cell_type": "code",
   "execution_count": null,
   "metadata": {
    "collapsed": true
   },
   "outputs": [],
   "source": [
    "# plot model and updated data phase side-by-side\n",
    "\n"
   ]
  },
  {
   "cell_type": "code",
   "execution_count": null,
   "metadata": {
    "collapsed": true
   },
   "outputs": [],
   "source": []
  }
 ],
 "metadata": {
  "kernelspec": {
   "display_name": "Python 2",
   "language": "python",
   "name": "python2"
  },
  "language_info": {
   "codemirror_mode": {
    "name": "ipython",
    "version": 2
   },
   "file_extension": ".py",
   "mimetype": "text/x-python",
   "name": "python",
   "nbconvert_exporter": "python",
   "pygments_lexer": "ipython2",
   "version": "2.7.13"
  }
 },
 "nbformat": 4,
 "nbformat_minor": 2
}
